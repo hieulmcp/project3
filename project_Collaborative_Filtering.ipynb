{
 "cells": [
  {
   "cell_type": "markdown",
   "metadata": {},
   "source": [
    "# A. CODE\n",
    "- Đây là code được xây dựng recommendations được sử dụng phương thức ALS trong PySpark và Jupyter Notebook"
   ]
  },
  {
   "cell_type": "markdown",
   "metadata": {},
   "source": [
    "# B. DATA INFO\n",
    "- Dữ liệu được cào từ dữ liệu Tiki và có trên 300k dòng với rất nhiều cột\n",
    "- Chúng tôi sẽ recommender model sử dụng 75% của dữ liệu làm tập train và 25% con lại làm tập test"
   ]
  },
  {
   "cell_type": "markdown",
   "metadata": {},
   "source": [
    "# C. THỰC HIỆN BÀI TOÁN"
   ]
  },
  {
   "cell_type": "markdown",
   "metadata": {},
   "source": [
    "### 1.1. Import thư viện"
   ]
  },
  {
   "cell_type": "code",
   "execution_count": 1,
   "metadata": {},
   "outputs": [],
   "source": [
    "import findspark\n",
    "findspark.init()\n",
    "# import libraries\n",
    "from pyspark import SparkContext\n",
    "from pyspark.conf import SparkConf\n",
    "from pyspark.sql import SparkSession\n",
    "import matplotlib.pyplot as plt\n",
    "import seaborn as sns\n",
    "from scipy import stats\n",
    "from datetime import datetime\n",
    "from pyspark.sql.functions import to_date, dayofweek, to_timestamp\n",
    "from pyspark.sql import types \n",
    "from pyspark.sql.types import DateType\n",
    "from pyspark.sql.functions import year, month\n",
    "from pyspark.sql.functions import dayofmonth, weekofyear\n",
    "from pyspark.sql.functions import split, explode\n",
    "from pyspark.sql.functions import coalesce, first, lit\n",
    "from pyspark.ml.feature import Binarizer\n",
    "from pyspark.ml.feature import Bucketizer\n",
    "from pyspark.ml.feature import OneHotEncoder, StringIndexer\n",
    "from pyspark.sql.functions import regexp_extract\n",
    "from pyspark.sql.functions import datediff\n",
    "from pyspark.sql.functions import when\n",
    "\n",
    "from pyspark.ml.linalg import Vectors\n",
    "from pyspark.ml.feature import VectorAssembler\n",
    "from pyspark.ml.regression import LinearRegression\n",
    "from pyspark.ml.regression import LinearRegressionModel\n",
    "from pyspark.sql.functions import isnan, when, count, col, rand, udf, mean, stddev, log\n",
    "\n",
    "# Converting String to index\n",
    "from pyspark.ml import Pipeline\n",
    "\n",
    "# Create ALS model and fitting data\n",
    "from pyspark.ml.evaluation import RegressionEvaluator\n",
    "from pyspark.ml.recommendation import ALS\n",
    "import itertools"
   ]
  },
  {
   "cell_type": "markdown",
   "metadata": {},
   "source": [
    "### 1.2. Thực hiện bài toán"
   ]
  },
  {
   "cell_type": "markdown",
   "metadata": {},
   "source": [
    "#### 1.2.1. Step 1: Create the SparkSession Object"
   ]
  },
  {
   "cell_type": "code",
   "execution_count": 2,
   "metadata": {},
   "outputs": [],
   "source": [
    "from pyspark.sql import SparkSession\n",
    "spark = SparkSession.builder.appName('Recommender Systems - Hệ thống đề xuất').getOrCreate()"
   ]
  },
  {
   "cell_type": "markdown",
   "metadata": {},
   "source": [
    "#### 1.2.2. Step 2: Read the Dataset\n",
    "- Chung ta khi load và đọc dữ liệu với Spark phải sử dụng dataframe."
   ]
  },
  {
   "cell_type": "code",
   "execution_count": 3,
   "metadata": {},
   "outputs": [
    {
     "name": "stdout",
     "output_type": "stream",
     "text": [
      "+---+-----------+--------------------+---------------+------------+--------------------+--------------------+-----+----------+-------+------+\n",
      "|_c0|fea_item_id|            fea_name|fea_customer_id|fea_rating_y|               image|                 url|brand|list_price|  price|rating|\n",
      "+---+-----------+--------------------+---------------+------------+--------------------+--------------------+-----+----------+-------+------+\n",
      "|  0|   48102821|tai nghe bluetoot...|         159465|         4.0|https://salt.tiki...|https://tai-nghe-...|  OEM|  300000.0|77000.0|   4.0|\n",
      "|  1|   48102821|tai nghe bluetoot...|       16122994|         5.0|https://salt.tiki...|https://tai-nghe-...|  OEM|  300000.0|77000.0|   4.0|\n",
      "|  2|   48102821|tai nghe bluetoot...|       18720987|         2.0|https://salt.tiki...|https://tai-nghe-...|  OEM|  300000.0|77000.0|   4.0|\n",
      "|  3|   48102821|tai nghe bluetoot...|       19631063|         4.0|https://salt.tiki...|https://tai-nghe-...|  OEM|  300000.0|77000.0|   4.0|\n",
      "|  4|   48102821|tai nghe bluetoot...|        1269974|         3.0|https://salt.tiki...|https://tai-nghe-...|  OEM|  300000.0|77000.0|   4.0|\n",
      "+---+-----------+--------------------+---------------+------------+--------------------+--------------------+-----+----------+-------+------+\n",
      "only showing top 5 rows\n",
      "\n"
     ]
    }
   ],
   "source": [
    "# Loads data\n",
    "from pyspark.sql.types import StructType, IntegerType, StringType, DoubleType\n",
    "file_path = 'data_analysis/data_merge.csv'\n",
    "df = spark.read.csv(file_path,inferSchema=True,header=True,  encoding='utf-8')\n",
    "df.show(5)"
   ]
  },
  {
   "cell_type": "markdown",
   "metadata": {},
   "source": [
    "#### 1.2.3. Step 3: Exploratory Data Analysis\n",
    "- Khám phá dữ liệu bới vì xem xét dữ liệu, điều kiện dữ liệu và đếm xem có bao nhiều mã hàng, bao nhiêu sao đánh giá..."
   ]
  },
  {
   "cell_type": "code",
   "execution_count": 4,
   "metadata": {},
   "outputs": [
    {
     "data": {
      "text/plain": [
       "361087"
      ]
     },
     "execution_count": 4,
     "metadata": {},
     "output_type": "execute_result"
    }
   ],
   "source": [
    "df.count()"
   ]
  },
  {
   "cell_type": "code",
   "execution_count": 5,
   "metadata": {},
   "outputs": [
    {
     "data": {
      "text/plain": [
       "['_c0',\n",
       " 'fea_item_id',\n",
       " 'fea_name',\n",
       " 'fea_customer_id',\n",
       " 'fea_rating_y',\n",
       " 'image',\n",
       " 'url',\n",
       " 'brand',\n",
       " 'list_price',\n",
       " 'price',\n",
       " 'rating']"
      ]
     },
     "execution_count": 5,
     "metadata": {},
     "output_type": "execute_result"
    }
   ],
   "source": [
    "df.columns"
   ]
  },
  {
   "cell_type": "code",
   "execution_count": 6,
   "metadata": {},
   "outputs": [
    {
     "name": "stdout",
     "output_type": "stream",
     "text": [
      "root\n",
      " |-- _c0: integer (nullable = true)\n",
      " |-- fea_item_id: integer (nullable = true)\n",
      " |-- fea_name: string (nullable = true)\n",
      " |-- fea_customer_id: integer (nullable = true)\n",
      " |-- fea_rating_y: double (nullable = true)\n",
      " |-- image: string (nullable = true)\n",
      " |-- url: string (nullable = true)\n",
      " |-- brand: string (nullable = true)\n",
      " |-- list_price: double (nullable = true)\n",
      " |-- price: double (nullable = true)\n",
      " |-- rating: double (nullable = true)\n",
      "\n"
     ]
    }
   ],
   "source": [
    "df.printSchema()"
   ]
  },
  {
   "cell_type": "markdown",
   "metadata": {},
   "source": [
    "##### Nhận xét\n",
    "- Kiểu dữ liệu đã như mong muốn\n",
    "- Chọn lại dữ liệu đúng với bài toán"
   ]
  },
  {
   "cell_type": "code",
   "execution_count": 7,
   "metadata": {},
   "outputs": [],
   "source": [
    "lst = ['fea_item_id','fea_name','fea_customer_id','fea_rating_y','image','url','brand','list_price','price','rating']"
   ]
  },
  {
   "cell_type": "code",
   "execution_count": 8,
   "metadata": {},
   "outputs": [],
   "source": [
    "data_sub = df.select(lst)"
   ]
  },
  {
   "cell_type": "code",
   "execution_count": 9,
   "metadata": {},
   "outputs": [
    {
     "name": "stdout",
     "output_type": "stream",
     "text": [
      "root\n",
      " |-- fea_item_id: integer (nullable = true)\n",
      " |-- fea_name: string (nullable = true)\n",
      " |-- fea_customer_id: integer (nullable = true)\n",
      " |-- fea_rating_y: double (nullable = true)\n",
      " |-- image: string (nullable = true)\n",
      " |-- url: string (nullable = true)\n",
      " |-- brand: string (nullable = true)\n",
      " |-- list_price: double (nullable = true)\n",
      " |-- price: double (nullable = true)\n",
      " |-- rating: double (nullable = true)\n",
      "\n"
     ]
    }
   ],
   "source": [
    "data_sub.printSchema()"
   ]
  },
  {
   "cell_type": "code",
   "execution_count": 10,
   "metadata": {},
   "outputs": [],
   "source": [
    "# Chuyển kiểu dữ liệu cho tập data\n",
    "data_sub = data_sub.withColumn(\"fea_customer_id\", data_sub[\"fea_customer_id\"].cast(IntegerType()))\n",
    "data_sub = data_sub.withColumn(\"fea_item_id\", data_sub[\"fea_item_id\"].cast(IntegerType()))\n",
    "data_sub = data_sub.withColumn(\"fea_rating_y\", data_sub[\"fea_rating_y\"].cast(DoubleType()))"
   ]
  },
  {
   "cell_type": "code",
   "execution_count": 11,
   "metadata": {},
   "outputs": [
    {
     "name": "stdout",
     "output_type": "stream",
     "text": [
      "root\n",
      " |-- fea_item_id: integer (nullable = true)\n",
      " |-- fea_name: string (nullable = true)\n",
      " |-- fea_customer_id: integer (nullable = true)\n",
      " |-- fea_rating_y: double (nullable = true)\n",
      " |-- image: string (nullable = true)\n",
      " |-- url: string (nullable = true)\n",
      " |-- brand: string (nullable = true)\n",
      " |-- list_price: double (nullable = true)\n",
      " |-- price: double (nullable = true)\n",
      " |-- rating: double (nullable = true)\n",
      "\n"
     ]
    }
   ],
   "source": [
    "data_sub.printSchema()"
   ]
  },
  {
   "cell_type": "code",
   "execution_count": 12,
   "metadata": {},
   "outputs": [
    {
     "name": "stdout",
     "output_type": "stream",
     "text": [
      "+-----------+---------------------------------------------------------------------------------------------------------------------------------------------------+---------------+------------+-------------------------------------------------------------------------------------------------------------+----------------------------------------------------------------------------------------------------------------------------------------------------------+----------+----------+---------+------+\n",
      "|fea_item_id|fea_name                                                                                                                                           |fea_customer_id|fea_rating_y|image                                                                                                        |url                                                                                                                                                       |brand     |list_price|price    |rating|\n",
      "+-----------+---------------------------------------------------------------------------------------------------------------------------------------------------+---------------+------------+-------------------------------------------------------------------------------------------------------------+----------------------------------------------------------------------------------------------------------------------------------------------------------+----------+----------+---------+------+\n",
      "|23476288   |tai nghe gaming có mic g1 dùng được cho điện_thoại và máy tínhtặng đế xem phim cho điện_thoại                                                      |17089511       |4.0         |https://salt.tikicdn.com/cache/280x280/ts/product/82/c6/25/87d4b64deb39e2d204fc1b0794ed9882.jpg              |https://tai-nghe-gaming-co-mic-g901-dung-duoc-cho-dien-thoai-va-may-tinh-tang-de-xem-phim-cho-dien-thoai-p23476288.html?src=ss-organic                    |OEM       |250000.0  |139000.0 |4.4   |\n",
      "|77718549   |cáp sạc 3 đầuchiều dài cáp 1 m2chất liệu vải dù chắc_chắn đầu sạc chống gãy gậpcó thể sạc 3 thiết_bị cùng lúcds1                                   |17445524       |5.0         |https://salt.tikicdn.com/cache/280x280/ts/product/22/dd/11/6be69101967d39b157be2a2083fed1ea.png              |https://cap-sac-3-dau-chieu-dai-cap-1m2-chat-lieu-vai-du-chac-chan-dau-sac-chong-gay-gap-co-the-sac-3-thiet-bi-cung-luc-ds01-p77718549.html?src=ss-organic|\tOEM      |99000.0   |26000.0  |5.0   |\n",
      "|46695756   |tai nghe true wireless earbuds soundpeats trueair smart touch bluetooth v5hàng chính hãng                                                          |8279731        |2.0         |https://salt.tikicdn.com/cache/280x280/ts/product/42/47/e0/b5eec7a43230f67ff87bd9b4114fc6b1.jpg              |https://tai-nghe-true-wireless-earbuds-soundpeats-trueair-smart-touch-bluetooth-v5-0-hang-chinh-hang-p46695756.html?src=ss-organic                        |SoundPEATS|1200000.0 |749900.0 |4.3   |\n",
      "|465219     |thiết_bị phát wifi di_động 4 g lteadvanced tplink m735 v5 15 mbpshàng chính hãng                                                                   |739740         |4.0         |https://salt.tikicdn.com/cache/280x280/ts/product/28/68/ad/2099249633fc81f51a39c3aff64417b0.jpg              |https://thiet-bi-phat-wifi-di-dong-4g-lte-advanced-tp-link-m7350-v5-150mbps-hang-chinh-hang-p465219.html?src=ss-organic                                   |TP-Link   |1890000.0 |1400000.0|4.2   |\n",
      "|25062191   |dây sạc đa_năng 3 đầu 3 in1 tự ngắt có sạc nhanh quick charger 3 hàng nhập_khẩu                                                                    |11379133       |1.0         |https://salt.tikicdn.com/cache/280x280/media/catalog/producttmp/99/65/32/8fdd7a88de782ceb8599589293ad706b.jpg|https://day-sac-da-nang-3-dau-3in1-danh-cho-iphone-ipad-smartphone-tablet-hang-nhap-khau-p25062191.html?src=ss-organic                                    |OEM       |110000.0  |39999.0  |4.5   |\n",
      "|45100535   |kèm videochỉ 3 p sạc 5 pin iphone x pin sạc dự_phòng 2 mah 3 cổng usb vivan225w5a cổng type c sạc nhanh qc 3 power delivery pdvpbh2shàng chính hãng|15003036       |4.0         |https://salt.tikicdn.com/cache/280x280/ts/product/c9/01/6c/47e9d4f572253e10b6cc8e30bb943380.jpg              |https://pin-sac-du-phong-20000mah-vivan-cong-nghe-22-5w-5a-pd-sac-nhanh-3-0-hang-chinh-hang-p45100535.html?src=ss-organic                                 |vivan     |875000.0  |319000.0 |4.5   |\n",
      "|702134     |chuột không dây logitech mx anywhere 2 s receiver usb hàng chính hãng                                                                              |1781593        |1.0         |https://salt.tikicdn.com/cache/280x280/ts/product/1b/39/90/06446f9c8546e8d0365cefd403866976.jpg              |https://chuot-khong-day-logitech-mx-anywhere-2s-receiver-usb-hang-chinh-hang-p702134.html?src=ss-organic                                                  |Logitech  |1999000.0 |1250000.0|4.8   |\n",
      "|48509229   |router wifi totolink n35rt chuẩn n 3 mbpshàng chính hãng                                                                                           |8147875        |4.0         |https://salt.tikicdn.com/cache/280x280/ts/product/d1/5c/fc/ee6b05d4d1814efc1f86f173002d23b3.png              |https://router-wi-fi-totolink-n350rt-chuan-n-300mbps-hang-chinh-hang-p48509229.html?src=ss-organic                                                        |TOTOLINK  |292000.0  |212000.0 |4.5   |\n",
      "|17629257   |miếng lót chuột dễ_thương chữ nhật2 x 26 cm                                                                                                        |1142305        |4.0         |https://salt.tikicdn.com/cache/280x280/ts/product/5b/69/7a/bcb2d29d3f61f6a109cf31cca3790358.jpg              |https://mieng-lot-chuot-de-thuong-chu-nhat-20-x-26-cm-p17629257.html?src=ss-organic                                                                       |OEM       |60000.0   |30000.0  |4.8   |\n",
      "|63912442   |giá đỡ điện thoạimáy tính bảng có_thể gấp gọn chống trượt tùy chỉnh độ caodt56                                                                     |16285434       |2.0         |https://salt.tikicdn.com/cache/280x280/ts/product/99/ca/23/1240687386e610409dc30b40fa34db01.jpg              |https://gia-do-dien-thoai-may-tinh-bang-co-the-gap-gon-chong-truot-tuy-chinh-do-cao-dt056-p63912442.html?src=ss-organic                                   |OEM       |100000.0  |69000.0  |4.2   |\n",
      "+-----------+---------------------------------------------------------------------------------------------------------------------------------------------------+---------------+------------+-------------------------------------------------------------------------------------------------------------+----------------------------------------------------------------------------------------------------------------------------------------------------------+----------+----------+---------+------+\n",
      "only showing top 10 rows\n",
      "\n"
     ]
    }
   ],
   "source": [
    "data_sub.orderBy(rand()).show(10, False)"
   ]
  },
  {
   "cell_type": "code",
   "execution_count": 13,
   "metadata": {},
   "outputs": [
    {
     "data": {
      "text/plain": [
       "DataFrame[fea_item_id: int, fea_name: string, fea_customer_id: int, fea_rating_y: double, image: string, url: string, brand: string, list_price: double, price: double, rating: double]"
      ]
     },
     "execution_count": 13,
     "metadata": {},
     "output_type": "execute_result"
    }
   ],
   "source": [
    "data_sub.where(col(\"fea_customer_id\").isNull())"
   ]
  },
  {
   "cell_type": "code",
   "execution_count": 14,
   "metadata": {},
   "outputs": [
    {
     "data": {
      "text/plain": [
       "0"
      ]
     },
     "execution_count": 14,
     "metadata": {},
     "output_type": "execute_result"
    }
   ],
   "source": [
    "data_sub.filter(data_sub.fea_customer_id.isNull()).count()"
   ]
  },
  {
   "cell_type": "code",
   "execution_count": 15,
   "metadata": {},
   "outputs": [
    {
     "name": "stdout",
     "output_type": "stream",
     "text": [
      "+---------------+-----+\n",
      "|fea_customer_id|count|\n",
      "+---------------+-----+\n",
      "|7737978        |50   |\n",
      "|7280719        |40   |\n",
      "|6106142        |37   |\n",
      "|7377207        |35   |\n",
      "|1064154        |34   |\n",
      "|1425077        |32   |\n",
      "|1046981        |31   |\n",
      "|6177374        |30   |\n",
      "|6844844        |29   |\n",
      "|717732         |28   |\n",
      "+---------------+-----+\n",
      "only showing top 10 rows\n",
      "\n"
     ]
    }
   ],
   "source": [
    "data_sub.groupBy('fea_customer_id').count().orderBy('count',ascending=False).show(10,False) "
   ]
  },
  {
   "cell_type": "code",
   "execution_count": 16,
   "metadata": {},
   "outputs": [
    {
     "name": "stdout",
     "output_type": "stream",
     "text": [
      "+---------------+-----+\n",
      "|fea_customer_id|count|\n",
      "+---------------+-----+\n",
      "|1367425        |1    |\n",
      "|1694268        |1    |\n",
      "|17634780       |1    |\n",
      "|11569360       |1    |\n",
      "|8068093        |1    |\n",
      "|19850258       |1    |\n",
      "|563859         |1    |\n",
      "|20214885       |1    |\n",
      "|466586         |1    |\n",
      "|15220455       |1    |\n",
      "+---------------+-----+\n",
      "only showing top 10 rows\n",
      "\n"
     ]
    }
   ],
   "source": [
    "data_sub.groupBy('fea_customer_id').count().orderBy('count',ascending=True).show(10,False)"
   ]
  },
  {
   "cell_type": "markdown",
   "metadata": {},
   "source": [
    "##### Nhận xét\n",
    "- Ta thất khách hàng mua nhiều nhất là khách hàng 7737978 có 50 đơn hàng ít nhất là chỉ có 1 đơn hàng"
   ]
  },
  {
   "cell_type": "code",
   "execution_count": 17,
   "metadata": {},
   "outputs": [
    {
     "name": "stdout",
     "output_type": "stream",
     "text": [
      "+------------------------------------------------------------------------------------------------------------------------------------------------------------+-----+\n",
      "|fea_name                                                                                                                                                    |count|\n",
      "+------------------------------------------------------------------------------------------------------------------------------------------------------------+-----+\n",
      "|chuột không dây logitech m331 silenthàng chính hãng                                                                                                         |4715 |\n",
      "|tai nghe nhét tai mi basic xiaomi hsej3jyhàng chính hãng                                                                                                    |2629 |\n",
      "|pin sạc dự_phòng xiaomi redmi 2 mah pb2lmz tích_hợp cổng usb typec in hỗ_trợ sạc nhanh 18 whàng chính hãng                                                  |2419 |\n",
      "|usb kingston dt1g3 32 gb usb 3 hàng chính hãng                                                                                                              |2316 |\n",
      "|dây_cáp sạc đa_năng baseus rapid 4 in 1 typec 2 lighningmicro usb cho iphone ipad smartphonetablet android 35 a_12 m fast charge 4 in 1 cablehàng chính hãng|2202 |\n",
      "|chuột không dây logitech b175hàng chính hãng                                                                                                                |2077 |\n",
      "|thẻ nhớ micro sd samsung evo plus u1 32 gb class 15 mbs kèm adapterhàng chính hãng                                                                          |2057 |\n",
      "|bộ kích sóng wifi repeater 3 mbps totolink ex2hàng chính hãng                                                                                               |2006 |\n",
      "|tai nghe nhét tai byz s38hàng chính hãng                                                                                                                    |1962 |\n",
      "|camera chống trộm xiaomi mi home 36 18 p 21 qdj458glhàng chính hãng                                                                                         |1933 |\n",
      "+------------------------------------------------------------------------------------------------------------------------------------------------------------+-----+\n",
      "only showing top 10 rows\n",
      "\n"
     ]
    }
   ],
   "source": [
    "data_sub.groupBy('fea_name').count().orderBy('count',ascending=False).show(10,False)"
   ]
  },
  {
   "cell_type": "markdown",
   "metadata": {},
   "source": [
    "##### Nhận xét\n",
    "- Mã item 299461 nhiều đờn hàng nhất với 4715 đơn hàng"
   ]
  },
  {
   "cell_type": "markdown",
   "metadata": {},
   "source": [
    "#### 1.2.4. Step 4: Feature Engineering\n",
    "- Chúng tôi sẽ convert những column categorical sang numerical values using StringIndexex"
   ]
  },
  {
   "cell_type": "code",
   "execution_count": 18,
   "metadata": {},
   "outputs": [],
   "source": [
    "from pyspark.sql.functions import *\n",
    "from pyspark.ml.feature import StringIndexer, IndexToString"
   ]
  },
  {
   "cell_type": "code",
   "execution_count": 19,
   "metadata": {},
   "outputs": [],
   "source": [
    "stringIndexer = StringIndexer(inputCol=\"fea_name\", outputCol=\"title_new\")"
   ]
  },
  {
   "cell_type": "code",
   "execution_count": 20,
   "metadata": {},
   "outputs": [],
   "source": [
    "model = stringIndexer.fit(data_sub)"
   ]
  },
  {
   "cell_type": "code",
   "execution_count": 21,
   "metadata": {},
   "outputs": [],
   "source": [
    "indexed = model.transform(data_sub)"
   ]
  },
  {
   "cell_type": "code",
   "execution_count": 22,
   "metadata": {},
   "outputs": [
    {
     "name": "stdout",
     "output_type": "stream",
     "text": [
      "+-----------+--------------------+---------------+------------+--------------------+--------------------+-----+----------+-------+------+---------+\n",
      "|fea_item_id|            fea_name|fea_customer_id|fea_rating_y|               image|                 url|brand|list_price|  price|rating|title_new|\n",
      "+-----------+--------------------+---------------+------------+--------------------+--------------------+-----+----------+-------+------+---------+\n",
      "|   48102821|tai nghe bluetoot...|         159465|         4.0|https://salt.tiki...|https://tai-nghe-...|  OEM|  300000.0|77000.0|   4.0|     23.0|\n",
      "|   48102821|tai nghe bluetoot...|       16122994|         5.0|https://salt.tiki...|https://tai-nghe-...|  OEM|  300000.0|77000.0|   4.0|     23.0|\n",
      "|   48102821|tai nghe bluetoot...|       18720987|         2.0|https://salt.tiki...|https://tai-nghe-...|  OEM|  300000.0|77000.0|   4.0|     23.0|\n",
      "|   48102821|tai nghe bluetoot...|       19631063|         4.0|https://salt.tiki...|https://tai-nghe-...|  OEM|  300000.0|77000.0|   4.0|     23.0|\n",
      "|   48102821|tai nghe bluetoot...|        1269974|         3.0|https://salt.tiki...|https://tai-nghe-...|  OEM|  300000.0|77000.0|   4.0|     23.0|\n",
      "|   48102821|tai nghe bluetoot...|       12671592|         5.0|https://salt.tiki...|https://tai-nghe-...|  OEM|  300000.0|77000.0|   4.0|     23.0|\n",
      "|   48102821|tai nghe bluetoot...|       20139209|         3.0|https://salt.tiki...|https://tai-nghe-...|  OEM|  300000.0|77000.0|   4.0|     23.0|\n",
      "|   48102821|tai nghe bluetoot...|         740905|         1.0|https://salt.tiki...|https://tai-nghe-...|  OEM|  300000.0|77000.0|   4.0|     23.0|\n",
      "|   48102821|tai nghe bluetoot...|       16484419|         4.0|https://salt.tiki...|https://tai-nghe-...|  OEM|  300000.0|77000.0|   4.0|     23.0|\n",
      "|   48102821|tai nghe bluetoot...|       19616271|         5.0|https://salt.tiki...|https://tai-nghe-...|  OEM|  300000.0|77000.0|   4.0|     23.0|\n",
      "+-----------+--------------------+---------------+------------+--------------------+--------------------+-----+----------+-------+------+---------+\n",
      "only showing top 10 rows\n",
      "\n"
     ]
    }
   ],
   "source": [
    "indexed.show(10)"
   ]
  },
  {
   "cell_type": "code",
   "execution_count": 23,
   "metadata": {},
   "outputs": [
    {
     "name": "stdout",
     "output_type": "stream",
     "text": [
      "+-----------+-----+\n",
      "|fea_item_id|count|\n",
      "+-----------+-----+\n",
      "|299461     |4715 |\n",
      "|1600005    |2629 |\n",
      "|47321729   |2419 |\n",
      "|405243     |2316 |\n",
      "|8141868    |2202 |\n",
      "|389145     |2077 |\n",
      "|487511     |2057 |\n",
      "|547563     |2006 |\n",
      "|591960     |1962 |\n",
      "|43107185   |1933 |\n",
      "+-----------+-----+\n",
      "only showing top 10 rows\n",
      "\n"
     ]
    }
   ],
   "source": [
    "indexed.groupBy('fea_item_id').count().orderBy('count',ascending=False).show(10,False)"
   ]
  },
  {
   "cell_type": "markdown",
   "metadata": {},
   "source": [
    "#### Nhận xét:\n",
    "- Do model mã id là kiểu số nên không cần chuyển đổi qua mã sản phẩm"
   ]
  },
  {
   "cell_type": "markdown",
   "metadata": {},
   "source": [
    "#### 1.2.5. Step 5: Splitting the Dataset\n",
    "- Chung ta có thể so sánh dữ liệu xây dựng mô hình đề xuất, chung có thể chia dữ liệu theo dữ liệu training và test\n",
    "- Chung ta có thể chia trong khoảng 75 đến 25 chỉ số train mode và test accuracy"
   ]
  },
  {
   "cell_type": "code",
   "execution_count": 24,
   "metadata": {},
   "outputs": [],
   "source": [
    "train,test=data_sub.randomSplit([0.75,0.25])"
   ]
  },
  {
   "cell_type": "code",
   "execution_count": 25,
   "metadata": {},
   "outputs": [
    {
     "data": {
      "text/plain": [
       "270675"
      ]
     },
     "execution_count": 25,
     "metadata": {},
     "output_type": "execute_result"
    }
   ],
   "source": [
    "train.count()"
   ]
  },
  {
   "cell_type": "code",
   "execution_count": 26,
   "metadata": {},
   "outputs": [
    {
     "data": {
      "text/plain": [
       "90412"
      ]
     },
     "execution_count": 26,
     "metadata": {},
     "output_type": "execute_result"
    }
   ],
   "source": [
    "test.count()"
   ]
  },
  {
   "cell_type": "markdown",
   "metadata": {},
   "source": [
    "#### 1.2.6. Step 6: Build and Train Recommender Model\n",
    "- Chúng ta có thể import ALS thư viện Pyspark machine learning và xây dựng mô hình training dữ liệu\n",
    "- Có rất nhiều parameter nhưng có tuned cải thiện hiệu suất mô hình\n",
    "- Có 2 para quan trọng đó là: \n",
    "    + nonnegative =‘True’: Nó không thêm negative ratings in recommendations\n",
    "    + coldStartStrategy=‘drop’ to prevent any NaN ratings predictions"
   ]
  },
  {
   "cell_type": "code",
   "execution_count": 27,
   "metadata": {},
   "outputs": [],
   "source": [
    "from pyspark.ml.recommendation import ALS"
   ]
  },
  {
   "cell_type": "code",
   "execution_count": 28,
   "metadata": {},
   "outputs": [],
   "source": [
    "rec=ALS(maxIter=15, userCol='fea_customer_id',itemCol='fea_item_id',ratingCol='fea_rating_y', nonnegative=True, coldStartStrategy=\"drop\")"
   ]
  },
  {
   "cell_type": "code",
   "execution_count": 29,
   "metadata": {},
   "outputs": [],
   "source": [
    "rec_model=rec.fit(train)"
   ]
  },
  {
   "cell_type": "markdown",
   "metadata": {},
   "source": [
    "#### 1.2.7. Step 7: Predictions and Evaluation on Test Data\n",
    "- Hoàn thành 1 phần bài tập là kiểm tra hiệu quả của mô hình hoặc test dữ liệu\n",
    "- Chúng ta sử dụng các hàm làm dự đoán trên tập test data và RegressionEvaluate để check the RMSE value của tập dữ liệu"
   ]
  },
  {
   "cell_type": "code",
   "execution_count": 30,
   "metadata": {},
   "outputs": [],
   "source": [
    "predicted_ratings=rec_model.transform(test)"
   ]
  },
  {
   "cell_type": "code",
   "execution_count": 31,
   "metadata": {},
   "outputs": [
    {
     "name": "stdout",
     "output_type": "stream",
     "text": [
      "root\n",
      " |-- fea_item_id: integer (nullable = true)\n",
      " |-- fea_name: string (nullable = true)\n",
      " |-- fea_customer_id: integer (nullable = true)\n",
      " |-- fea_rating_y: double (nullable = true)\n",
      " |-- image: string (nullable = true)\n",
      " |-- url: string (nullable = true)\n",
      " |-- brand: string (nullable = true)\n",
      " |-- list_price: double (nullable = true)\n",
      " |-- price: double (nullable = true)\n",
      " |-- rating: double (nullable = true)\n",
      " |-- prediction: float (nullable = false)\n",
      "\n"
     ]
    }
   ],
   "source": [
    "predicted_ratings.printSchema()"
   ]
  },
  {
   "cell_type": "code",
   "execution_count": 32,
   "metadata": {},
   "outputs": [
    {
     "name": "stdout",
     "output_type": "stream",
     "text": [
      "+-----------+--------------------+---------------+------------+--------------------+--------------------+--------+----------+---------+------+----------+\n",
      "|fea_item_id|            fea_name|fea_customer_id|fea_rating_y|               image|                 url|   brand|list_price|    price|rating|prediction|\n",
      "+-----------+--------------------+---------------+------------+--------------------+--------------------+--------+----------+---------+------+----------+\n",
      "|     249953|dây_cáp sạc micro...|       19021227|         5.0|https://salt.tiki...|https://day-cap-s...|   Anker|   99000.0|  69000.0|   4.7|  4.104461|\n",
      "|   75643830|ốp lưng apple sil...|       11183810|         5.0|https://salt.tiki...|https://op-lung-a...|   Apple| 1200000.0| 490000.0|   4.8|   4.71597|\n",
      "|     487524|thẻ nhớ micro sd ...|        9101139|         5.0|https://salt.tiki...|https://the-nho-m...| Samsung|  350000.0| 239000.0|   4.6| 3.9841497|\n",
      "|     180912|bàn_phím bluetoot...|       18057770|         5.0|https://salt.tiki...|https://ban-phim-...|Logitech|  750000.0| 559000.0|   4.7|  4.820479|\n",
      "|   12743825|máy lạnh sharp in...|         742676|         4.0|https://salt.tiki...|https://may-lanh-...|   Sharp| 9690000.0|6479000.0|   4.4|  3.314604|\n",
      "|   65395332|pin sạc dự_phòng ...|       19430315|         5.0|https://salt.tiki...|https://pin-sac-d...|   Acome|  590000.0| 299000.0|   4.7| 0.8722173|\n",
      "|   22883541|đầu nối dây mạng ...|        7849360|         5.0|https://salt.tiki...|https://dau-noi-d...|     OEM|   50000.0|  13500.0|   0.0| 1.6582618|\n",
      "|      55897|chuột có dây logi...|        8868005|         4.0|https://salt.tiki...|https://chuot-co-...|Logitech|  169000.0| 113900.0|   4.7| 3.3380077|\n",
      "|   55445629|đế tản nhiệt cho ...|         289590|         5.0|https://salt.tiki...|https://de-tan-nh...| Horizen|  564000.0| 225000.0|   4.7| 2.9570565|\n",
      "|   36710007|giá đỡ điện_thoại...|        8198445|         5.0|https://salt.tiki...|https://gia-do-di...|     OEM|  150000.0|  69000.0|   4.7| 3.4425516|\n",
      "|   21464946|máy_tính bảng sam...|        6657858|         5.0|https://salt.tiki...|https://may-tinh-...| Samsung| 3690000.0|3490000.0|   3.9| 3.7807074|\n",
      "|     637038|chuột có dây dell...|        1995863|         5.0|https://salt.tiki...|https://chuot-co-...|    Dell|  190900.0|  99000.0|   4.7|  4.642037|\n",
      "|     591960|tai nghe nhét tai...|        6147876|         5.0|https://salt.tiki...|https://tai-nghe-...|     BYZ|   89000.0|  45000.0|   4.3|  4.347657|\n",
      "|     708026|router wifi băng ...|        9023706|         5.0|https://salt.tiki...|https://router-wi...| TP-Link|  799000.0| 430000.0|   4.6|  2.361199|\n",
      "|    6010061|dây audio 35 mm r...|       12041891|         4.0|https://salt.tiki...|https://day-audio...|  UGREEN|  180000.0| 101700.0|   4.6| 3.2982008|\n",
      "|     487511|thẻ nhớ micro sd ...|        8045230|         4.0|https://salt.tiki...|https://the-nho-m...| Samsung|  170000.0| 139000.0|   4.7| 4.1873374|\n",
      "|     855018|tai nghe nhét tai...|       14187223|         5.0|https://salt.tiki...|https://tai-nghe-...|    Sony|  890000.0| 617600.0|   4.7|  2.773407|\n",
      "|   20204021|cường_lực wk king...|        1975894|         5.0|https://salt.tiki...|https://cuong-luc...|      WK|  300000.0|  56906.0|   0.0| 3.1284637|\n",
      "|   12321426|khăn da_cừu lau ố...|        5123836|         5.0|https://salt.tiki...|https://khan-da-c...|     OEM|   70000.0|  47000.0|   4.6| 4.0753646|\n",
      "|     417018|card mạng tplinkt...|        5832007|         5.0|https://salt.tiki...|https://card-mang...| TP-Link|  180000.0| 165000.0|   4.7| 2.0553637|\n",
      "+-----------+--------------------+---------------+------------+--------------------+--------------------+--------+----------+---------+------+----------+\n",
      "only showing top 20 rows\n",
      "\n"
     ]
    }
   ],
   "source": [
    "predicted_ratings.orderBy(rand()).show(20)"
   ]
  },
  {
   "cell_type": "code",
   "execution_count": 33,
   "metadata": {},
   "outputs": [],
   "source": [
    "### Đánh giá\n",
    "from pyspark.ml.evaluation import RegressionEvaluator"
   ]
  },
  {
   "cell_type": "code",
   "execution_count": 34,
   "metadata": {},
   "outputs": [],
   "source": [
    "evaluator=RegressionEvaluator(metricName='rmse',predictionCol='prediction',labelCol='fea_rating_y')"
   ]
  },
  {
   "cell_type": "code",
   "execution_count": 35,
   "metadata": {},
   "outputs": [],
   "source": [
    "rmse=evaluator.evaluate(predicted_ratings)"
   ]
  },
  {
   "cell_type": "code",
   "execution_count": 36,
   "metadata": {},
   "outputs": [
    {
     "data": {
      "text/plain": [
       "1.3823175203078157"
      ]
     },
     "execution_count": 36,
     "metadata": {},
     "output_type": "execute_result"
    }
   ],
   "source": [
    "rmse"
   ]
  },
  {
   "cell_type": "markdown",
   "metadata": {},
   "source": [
    "#### Nhận xét:\n",
    "- RMSE rất cao, cho nên cần xem và chọn tham số phù hợp với bài toán"
   ]
  },
  {
   "cell_type": "markdown",
   "metadata": {},
   "source": [
    "#### 1.2.8. Step 8: Recommend Top item That Active User Might Like\n",
    "- Sau khi kiểm tra hiểu quả về mô hình và tuning the hyperparameters\n",
    "- Chúng ta có thể duy chuyển để xuất theo top items tới user id đó và họ có thể nhìn và thích"
   ]
  },
  {
   "cell_type": "code",
   "execution_count": 37,
   "metadata": {},
   "outputs": [
    {
     "data": {
      "text/plain": [
       "['fea_item_id',\n",
       " 'fea_name',\n",
       " 'fea_customer_id',\n",
       " 'fea_rating_y',\n",
       " 'image',\n",
       " 'url',\n",
       " 'brand',\n",
       " 'list_price',\n",
       " 'price',\n",
       " 'rating',\n",
       " 'title_new']"
      ]
     },
     "execution_count": 37,
     "metadata": {},
     "output_type": "execute_result"
    }
   ],
   "source": [
    "indexed.columns"
   ]
  },
  {
   "cell_type": "code",
   "execution_count": 38,
   "metadata": {},
   "outputs": [],
   "source": [
    "lst_ = ['fea_item_id','fea_name','fea_customer_id','fea_rating_y','image','url','brand','list_price','price','rating']\n",
    "unique_item=data_sub.select(lst_).distinct()"
   ]
  },
  {
   "cell_type": "code",
   "execution_count": 39,
   "metadata": {},
   "outputs": [
    {
     "name": "stdout",
     "output_type": "stream",
     "text": [
      "+-----------+------------------------------------------------------------------------------------------+---------------+------------+-------------------------------------------------------------------------------------------------------------+---------------------------------------------------------------------------------------------------------------------------------+--------+----------+--------+------+\n",
      "|fea_item_id|fea_name                                                                                  |fea_customer_id|fea_rating_y|image                                                                                                        |url                                                                                                                              |brand   |list_price|price   |rating|\n",
      "+-----------+------------------------------------------------------------------------------------------+---------------+------------+-------------------------------------------------------------------------------------------------------------+---------------------------------------------------------------------------------------------------------------------------------+--------+----------+--------+------+\n",
      "|48102821   |tai nghe bluetooth inpods 12 cảm_biến vân tay chống nướcmàu sắc đa_dạng 5 màu_sắc lựa_chọn|20125044       |2.0         |https://salt.tikicdn.com/cache/280x280/ts/product/9e/af/79/39855aad21aaa6ed4459909c7c0aea4e.jpg              |https://tai-nghe-bluetooth-inpods-12-cam-bien-van-tay-chong-nuoc-mau-sac-da-dang-5-mau-sac-lua-chon-p48102821.html?src=ss-organic|OEM     |300000.0  |77000.0 |4.0   |\n",
      "|48102821   |tai nghe bluetooth inpods 12 cảm_biến vân tay chống nướcmàu sắc đa_dạng 5 màu_sắc lựa_chọn|19112677       |4.0         |https://salt.tikicdn.com/cache/280x280/ts/product/9e/af/79/39855aad21aaa6ed4459909c7c0aea4e.jpg              |https://tai-nghe-bluetooth-inpods-12-cam-bien-van-tay-chong-nuoc-mau-sac-da-dang-5-mau-sac-lua-chon-p48102821.html?src=ss-organic|OEM     |300000.0  |77000.0 |4.0   |\n",
      "|48102821   |tai nghe bluetooth inpods 12 cảm_biến vân tay chống nướcmàu sắc đa_dạng 5 màu_sắc lựa_chọn|15152944       |5.0         |https://salt.tikicdn.com/cache/280x280/ts/product/9e/af/79/39855aad21aaa6ed4459909c7c0aea4e.jpg              |https://tai-nghe-bluetooth-inpods-12-cam-bien-van-tay-chong-nuoc-mau-sac-da-dang-5-mau-sac-lua-chon-p48102821.html?src=ss-organic|OEM     |300000.0  |77000.0 |4.0   |\n",
      "|48102821   |tai nghe bluetooth inpods 12 cảm_biến vân tay chống nướcmàu sắc đa_dạng 5 màu_sắc lựa_chọn|19222988       |3.0         |https://salt.tikicdn.com/cache/280x280/ts/product/9e/af/79/39855aad21aaa6ed4459909c7c0aea4e.jpg              |https://tai-nghe-bluetooth-inpods-12-cam-bien-van-tay-chong-nuoc-mau-sac-da-dang-5-mau-sac-lua-chon-p48102821.html?src=ss-organic|OEM     |300000.0  |77000.0 |4.0   |\n",
      "|52333193   |tai nghe bluetooth không dây f true wireless dock sạc có led báo pin kép                  |18979150       |5.0         |https://salt.tikicdn.com/cache/280x280/ts/product/17/c3/53/74638856cc4ec043b46c7614bd0174e6.jpg              |https://tai-nghe-bluetooth-khong-day-f9-true-wireless-cam-ung-van-tay-dock-sac-co-led-bao-pin-kep-p52333193.html?src=ss-organic  |OEM     |750000.0  |132000.0|4.5   |\n",
      "|52333193   |tai nghe bluetooth không dây f true wireless dock sạc có led báo pin kép                  |15923437       |5.0         |https://salt.tikicdn.com/cache/280x280/ts/product/17/c3/53/74638856cc4ec043b46c7614bd0174e6.jpg              |https://tai-nghe-bluetooth-khong-day-f9-true-wireless-cam-ung-van-tay-dock-sac-co-led-bao-pin-kep-p52333193.html?src=ss-organic  |OEM     |750000.0  |132000.0|4.5   |\n",
      "|52333193   |tai nghe bluetooth không dây f true wireless dock sạc có led báo pin kép                  |19658045       |4.0         |https://salt.tikicdn.com/cache/280x280/ts/product/17/c3/53/74638856cc4ec043b46c7614bd0174e6.jpg              |https://tai-nghe-bluetooth-khong-day-f9-true-wireless-cam-ung-van-tay-dock-sac-co-led-bao-pin-kep-p52333193.html?src=ss-organic  |OEM     |750000.0  |132000.0|4.5   |\n",
      "|299461     |chuột không dây logitech m331 silenthàng chính hãng                                       |2063966        |5.0         |https://salt.tikicdn.com/cache/280x280/media/catalog/product/m/3/m331red_0.u2470.d20161215.t105811.181375.jpg|https://chuot-khong-day-logitech-m331-silent-plus-hang-chinh-hang-p299461.html?src=ss-organic                                    |Logitech|399000.0  |299000.0|4.8   |\n",
      "|299461     |chuột không dây logitech m331 silenthàng chính hãng                                       |1110516        |4.0         |https://salt.tikicdn.com/cache/280x280/media/catalog/product/m/3/m331red_0.u2470.d20161215.t105811.181375.jpg|https://chuot-khong-day-logitech-m331-silent-plus-hang-chinh-hang-p299461.html?src=ss-organic                                    |Logitech|399000.0  |299000.0|4.8   |\n",
      "|299461     |chuột không dây logitech m331 silenthàng chính hãng                                       |1432447        |5.0         |https://salt.tikicdn.com/cache/280x280/media/catalog/product/m/3/m331red_0.u2470.d20161215.t105811.181375.jpg|https://chuot-khong-day-logitech-m331-silent-plus-hang-chinh-hang-p299461.html?src=ss-organic                                    |Logitech|399000.0  |299000.0|4.8   |\n",
      "+-----------+------------------------------------------------------------------------------------------+---------------+------------+-------------------------------------------------------------------------------------------------------------+---------------------------------------------------------------------------------------------------------------------------------+--------+----------+--------+------+\n",
      "only showing top 10 rows\n",
      "\n"
     ]
    }
   ],
   "source": [
    "unique_item.show(10,False)"
   ]
  },
  {
   "cell_type": "markdown",
   "metadata": {},
   "source": [
    "##### Vì vậy chúng ta thấy có tổng cộng 4,154 item trong dataframe"
   ]
  },
  {
   "cell_type": "code",
   "execution_count": 40,
   "metadata": {},
   "outputs": [
    {
     "data": {
      "text/plain": [
       "DataFrame[fea_item_id: int, fea_name: string, fea_customer_id: int, fea_rating_y: double, image: string, url: string, brand: string, list_price: double, price: double, rating: double]"
      ]
     },
     "execution_count": 40,
     "metadata": {},
     "output_type": "execute_result"
    }
   ],
   "source": [
    "a = unique_item.alias('a')\n",
    "a"
   ]
  },
  {
   "cell_type": "markdown",
   "metadata": {},
   "source": [
    "##### Chúng ta có thể chọn user không có dữ liệu, chúng ta có thể sử để xuất 1 item khác cho người dùng"
   ]
  },
  {
   "cell_type": "code",
   "execution_count": 41,
   "metadata": {},
   "outputs": [],
   "source": [
    "fea_customer_id=16762580"
   ]
  },
  {
   "cell_type": "markdown",
   "metadata": {},
   "source": [
    "##### Chúng ta sẽ lọc item người dùng đã mua và đánh giá tích cực nó"
   ]
  },
  {
   "cell_type": "code",
   "execution_count": 42,
   "metadata": {},
   "outputs": [],
   "source": [
    "lst__ =['fea_item_id','image','url','brand','list_price','price','rating']\n",
    "item_choose=data_sub.filter(data_sub['fea_customer_id'] ==fea_customer_id).select(lst__).distinct()"
   ]
  },
  {
   "cell_type": "code",
   "execution_count": 43,
   "metadata": {},
   "outputs": [
    {
     "data": {
      "text/plain": [
       "2"
      ]
     },
     "execution_count": 43,
     "metadata": {},
     "output_type": "execute_result"
    }
   ],
   "source": [
    "item_choose.count()"
   ]
  },
  {
   "cell_type": "code",
   "execution_count": 44,
   "metadata": {},
   "outputs": [],
   "source": [
    "b=item_choose.alias('b')"
   ]
  },
  {
   "cell_type": "markdown",
   "metadata": {},
   "source": [
    "##### Vì vậy, Có 48 item trong tổng số 4154 item đó khách hàng sản sàng đánh giá => Vì vậy Chung ta sẽ để xuất những item con lại cho khách hàng. Chúng ta sẽ combine 2 bảng và chung ta có thể lọc những để xuất có thể null và joined 2 bảng lại với nhau"
   ]
  },
  {
   "cell_type": "code",
   "execution_count": 45,
   "metadata": {},
   "outputs": [],
   "source": [
    "total_item = a.join(b, a['fea_item_id'] == b['fea_item_id'],how='left')"
   ]
  },
  {
   "cell_type": "code",
   "execution_count": 46,
   "metadata": {},
   "outputs": [
    {
     "name": "stdout",
     "output_type": "stream",
     "text": [
      "+-----------+-----------------------------+---------------+------------+-----------------------------------------------------------------------------------------------+--------------------------------------------------------------------+-----+----------+---------+------+-----------+-----+----+-----+----------+-----+------+\n",
      "|fea_item_id|fea_name                     |fea_customer_id|fea_rating_y|image                                                                                          |url                                                                 |brand|list_price|price    |rating|fea_item_id|image|url |brand|list_price|price|rating|\n",
      "+-----------+-----------------------------+---------------+------------+-----------------------------------------------------------------------------------------------+--------------------------------------------------------------------+-----+----------+---------+------+-----------+-----+----+-----+----------+-----+------+\n",
      "|605223     |tivi sony hd 32 inch kdl32r3e|341268         |4.0         |https://salt.tikicdn.com/cache/280x280/ts/product/71/96/09/2f89eb824876510a0668f3400b4fa08c.jpg|https://tivi-sony-hd-32-inch-kdl-32r300e-p605223.html?src=ss-organic|Sony |7900000.0 |4890000.0|0.0   |null       |null |null|null |null      |null |null  |\n",
      "|605223     |tivi sony hd 32 inch kdl32r3e|6476068        |4.0         |https://salt.tikicdn.com/cache/280x280/ts/product/71/96/09/2f89eb824876510a0668f3400b4fa08c.jpg|https://tivi-sony-hd-32-inch-kdl-32r300e-p605223.html?src=ss-organic|Sony |7900000.0 |4890000.0|0.0   |null       |null |null|null |null      |null |null  |\n",
      "|605223     |tivi sony hd 32 inch kdl32r3e|5218821        |5.0         |https://salt.tikicdn.com/cache/280x280/ts/product/71/96/09/2f89eb824876510a0668f3400b4fa08c.jpg|https://tivi-sony-hd-32-inch-kdl-32r300e-p605223.html?src=ss-organic|Sony |7900000.0 |4890000.0|0.0   |null       |null |null|null |null      |null |null  |\n",
      "|605223     |tivi sony hd 32 inch kdl32r3e|376639         |3.0         |https://salt.tikicdn.com/cache/280x280/ts/product/71/96/09/2f89eb824876510a0668f3400b4fa08c.jpg|https://tivi-sony-hd-32-inch-kdl-32r300e-p605223.html?src=ss-organic|Sony |7900000.0 |4890000.0|0.0   |null       |null |null|null |null      |null |null  |\n",
      "|605223     |tivi sony hd 32 inch kdl32r3e|339038         |4.0         |https://salt.tikicdn.com/cache/280x280/ts/product/71/96/09/2f89eb824876510a0668f3400b4fa08c.jpg|https://tivi-sony-hd-32-inch-kdl-32r300e-p605223.html?src=ss-organic|Sony |7900000.0 |4890000.0|0.0   |null       |null |null|null |null      |null |null  |\n",
      "|605223     |tivi sony hd 32 inch kdl32r3e|12426775       |5.0         |https://salt.tikicdn.com/cache/280x280/ts/product/71/96/09/2f89eb824876510a0668f3400b4fa08c.jpg|https://tivi-sony-hd-32-inch-kdl-32r300e-p605223.html?src=ss-organic|Sony |7900000.0 |4890000.0|0.0   |null       |null |null|null |null      |null |null  |\n",
      "|605223     |tivi sony hd 32 inch kdl32r3e|10200829       |3.0         |https://salt.tikicdn.com/cache/280x280/ts/product/71/96/09/2f89eb824876510a0668f3400b4fa08c.jpg|https://tivi-sony-hd-32-inch-kdl-32r300e-p605223.html?src=ss-organic|Sony |7900000.0 |4890000.0|0.0   |null       |null |null|null |null      |null |null  |\n",
      "|605223     |tivi sony hd 32 inch kdl32r3e|1616505        |5.0         |https://salt.tikicdn.com/cache/280x280/ts/product/71/96/09/2f89eb824876510a0668f3400b4fa08c.jpg|https://tivi-sony-hd-32-inch-kdl-32r300e-p605223.html?src=ss-organic|Sony |7900000.0 |4890000.0|0.0   |null       |null |null|null |null      |null |null  |\n",
      "|605223     |tivi sony hd 32 inch kdl32r3e|1267543        |3.0         |https://salt.tikicdn.com/cache/280x280/ts/product/71/96/09/2f89eb824876510a0668f3400b4fa08c.jpg|https://tivi-sony-hd-32-inch-kdl-32r300e-p605223.html?src=ss-organic|Sony |7900000.0 |4890000.0|0.0   |null       |null |null|null |null      |null |null  |\n",
      "|605223     |tivi sony hd 32 inch kdl32r3e|7675528        |5.0         |https://salt.tikicdn.com/cache/280x280/ts/product/71/96/09/2f89eb824876510a0668f3400b4fa08c.jpg|https://tivi-sony-hd-32-inch-kdl-32r300e-p605223.html?src=ss-organic|Sony |7900000.0 |4890000.0|0.0   |null       |null |null|null |null      |null |null  |\n",
      "+-----------+-----------------------------+---------------+------------+-----------------------------------------------------------------------------------------------+--------------------------------------------------------------------+-----+----------+---------+------+-----------+-----+----+-----+----------+-----+------+\n",
      "only showing top 10 rows\n",
      "\n"
     ]
    }
   ],
   "source": [
    "total_item.show(10,False)"
   ]
  },
  {
   "cell_type": "code",
   "execution_count": 47,
   "metadata": {},
   "outputs": [],
   "source": [
    "remaining_item=total_item.where(col(\"b.fea_item_id\").isNull()).select(a.fea_item_id).distinct()"
   ]
  },
  {
   "cell_type": "code",
   "execution_count": 48,
   "metadata": {},
   "outputs": [
    {
     "name": "stdout",
     "output_type": "stream",
     "text": [
      "+-----------+\n",
      "|fea_item_id|\n",
      "+-----------+\n",
      "|605223     |\n",
      "|1675793    |\n",
      "|2069769    |\n",
      "|2086067    |\n",
      "|2774881    |\n",
      "|3222489    |\n",
      "|4193095    |\n",
      "|5983423    |\n",
      "|10723695   |\n",
      "|11415485   |\n",
      "+-----------+\n",
      "only showing top 10 rows\n",
      "\n"
     ]
    }
   ],
   "source": [
    "remaining_item.show(10,False)"
   ]
  },
  {
   "cell_type": "code",
   "execution_count": 49,
   "metadata": {},
   "outputs": [],
   "source": [
    "remaining_item=remaining_item.withColumn(\"fea_customer_id\",lit(int(fea_customer_id)))"
   ]
  },
  {
   "cell_type": "code",
   "execution_count": 50,
   "metadata": {},
   "outputs": [
    {
     "name": "stdout",
     "output_type": "stream",
     "text": [
      "+-----------+---------------+\n",
      "|fea_item_id|fea_customer_id|\n",
      "+-----------+---------------+\n",
      "|605223     |16762580       |\n",
      "|1675793    |16762580       |\n",
      "|2069769    |16762580       |\n",
      "|2086067    |16762580       |\n",
      "|2774881    |16762580       |\n",
      "|3222489    |16762580       |\n",
      "|4193095    |16762580       |\n",
      "|5983423    |16762580       |\n",
      "|10723695   |16762580       |\n",
      "|11415485   |16762580       |\n",
      "+-----------+---------------+\n",
      "only showing top 10 rows\n",
      "\n"
     ]
    }
   ],
   "source": [
    "remaining_item.show(10,False)"
   ]
  },
  {
   "cell_type": "markdown",
   "metadata": {},
   "source": [
    "##### Kết thúc, chúng ta có thể dự đoán phần con lại dữ liệu item cho userid sử dụng để xuất 1 mô hình đó chúng ta có thể xây chúng 1 cách dễ dàng. Chúng ta có thể lọc 1 top đề xuất có đánh giá cao về dự đoán ratings"
   ]
  },
  {
   "cell_type": "code",
   "execution_count": 51,
   "metadata": {},
   "outputs": [],
   "source": [
    "recommendations=rec_model.transform(remaining_item).orderBy('prediction',ascending=False)"
   ]
  },
  {
   "cell_type": "code",
   "execution_count": 52,
   "metadata": {},
   "outputs": [
    {
     "name": "stdout",
     "output_type": "stream",
     "text": [
      "+-----------+---------------+----------+\n",
      "|fea_item_id|fea_customer_id|prediction|\n",
      "+-----------+---------------+----------+\n",
      "|55515547   |16762580       |6.143086  |\n",
      "|62723100   |16762580       |6.1235785 |\n",
      "|74893380   |16762580       |5.9154935 |\n",
      "|74897040   |16762580       |5.8990493 |\n",
      "|44349631   |16762580       |5.834206  |\n",
      "+-----------+---------------+----------+\n",
      "only showing top 5 rows\n",
      "\n"
     ]
    }
   ],
   "source": [
    "recommendations.show(5,False)"
   ]
  },
  {
   "cell_type": "code",
   "execution_count": 53,
   "metadata": {},
   "outputs": [
    {
     "name": "stdout",
     "output_type": "stream",
     "text": [
      "<class 'pandas.core.frame.DataFrame'>\n",
      "RangeIndex: 4169 entries, 0 to 4168\n",
      "Data columns (total 3 columns):\n",
      " #   Column           Non-Null Count  Dtype  \n",
      "---  ------           --------------  -----  \n",
      " 0   fea_item_id      4169 non-null   int32  \n",
      " 1   fea_customer_id  4169 non-null   int32  \n",
      " 2   prediction       4169 non-null   float32\n",
      "dtypes: float32(1), int32(2)\n",
      "memory usage: 49.0 KB\n"
     ]
    }
   ],
   "source": [
    "recommendations_ =recommendations.toPandas()\n",
    "recommendations_.info()"
   ]
  },
  {
   "cell_type": "markdown",
   "metadata": {},
   "source": [
    "##### Nhận xét:\n",
    "- Những item trên được đánh giá sao cao cho user 7737978. Chúng ta có thể trực qua hóa hơn bằng cách thêm tiêu đề cho item trở lại các khuyện nghị cho khách hàng. Chúng ta có thể sử dụng chức năng Indextostring  để bổ sung tiêu đề"
   ]
  },
  {
   "cell_type": "code",
   "execution_count": 54,
   "metadata": {},
   "outputs": [],
   "source": [
    "item_title = IndexToString(inputCol=\"fea_item_id\",outputCol=\"title\",labels=model.labels)"
   ]
  },
  {
   "cell_type": "code",
   "execution_count": 55,
   "metadata": {},
   "outputs": [
    {
     "data": {
      "text/plain": [
       "DataFrame[fea_item_id: int, fea_customer_id: int, prediction: float, title: string]"
      ]
     },
     "execution_count": 55,
     "metadata": {},
     "output_type": "execute_result"
    }
   ],
   "source": [
    "final_recommendations=item_title.transform(recommendations)\n",
    "final_recommendations"
   ]
  },
  {
   "cell_type": "code",
   "execution_count": 56,
   "metadata": {},
   "outputs": [],
   "source": [
    "#final_recommendations.show(5,False)"
   ]
  },
  {
   "cell_type": "code",
   "execution_count": 57,
   "metadata": {},
   "outputs": [
    {
     "ename": "Py4JError",
     "evalue": "An error occurred while calling o226.__getstate__. Trace:\npy4j.Py4JException: Method __getstate__([]) does not exist\r\n\tat py4j.reflection.ReflectionEngine.getMethod(ReflectionEngine.java:318)\r\n\tat py4j.reflection.ReflectionEngine.getMethod(ReflectionEngine.java:326)\r\n\tat py4j.Gateway.invoke(Gateway.java:274)\r\n\tat py4j.commands.AbstractCommand.invokeMethod(AbstractCommand.java:132)\r\n\tat py4j.commands.CallCommand.execute(CallCommand.java:79)\r\n\tat py4j.GatewayConnection.run(GatewayConnection.java:238)\r\n\tat java.lang.Thread.run(Thread.java:748)\r\n\n",
     "output_type": "error",
     "traceback": [
      "\u001b[1;31m---------------------------------------------------------------------------\u001b[0m",
      "\u001b[1;31mPy4JError\u001b[0m                                 Traceback (most recent call last)",
      "\u001b[1;32m~\\AppData\\Local\\Temp/ipykernel_10444/1313843629.py\u001b[0m in \u001b[0;36m<module>\u001b[1;34m\u001b[0m\n\u001b[0;32m      1\u001b[0m \u001b[1;32mimport\u001b[0m \u001b[0mpickle\u001b[0m\u001b[1;33m\u001b[0m\u001b[1;33m\u001b[0m\u001b[0m\n\u001b[1;32m----> 2\u001b[1;33m \u001b[0mpickle\u001b[0m\u001b[1;33m.\u001b[0m\u001b[0mdump\u001b[0m\u001b[1;33m(\u001b[0m\u001b[0mrec_model\u001b[0m\u001b[1;33m,\u001b[0m\u001b[0mopen\u001b[0m\u001b[1;33m(\u001b[0m\u001b[1;34m'rec_model.pkl'\u001b[0m\u001b[1;33m,\u001b[0m\u001b[1;34m'wb'\u001b[0m\u001b[1;33m)\u001b[0m\u001b[1;33m)\u001b[0m\u001b[1;33m\u001b[0m\u001b[1;33m\u001b[0m\u001b[0m\n\u001b[0m",
      "\u001b[1;32mC:\\spark\\spark-2.4.8-bin-hadoop2.7\\python\\lib\\py4j-0.10.7-src.zip\\py4j\\java_gateway.py\u001b[0m in \u001b[0;36m__call__\u001b[1;34m(self, *args)\u001b[0m\n\u001b[0;32m   1255\u001b[0m         \u001b[0manswer\u001b[0m \u001b[1;33m=\u001b[0m \u001b[0mself\u001b[0m\u001b[1;33m.\u001b[0m\u001b[0mgateway_client\u001b[0m\u001b[1;33m.\u001b[0m\u001b[0msend_command\u001b[0m\u001b[1;33m(\u001b[0m\u001b[0mcommand\u001b[0m\u001b[1;33m)\u001b[0m\u001b[1;33m\u001b[0m\u001b[1;33m\u001b[0m\u001b[0m\n\u001b[0;32m   1256\u001b[0m         return_value = get_return_value(\n\u001b[1;32m-> 1257\u001b[1;33m             answer, self.gateway_client, self.target_id, self.name)\n\u001b[0m\u001b[0;32m   1258\u001b[0m \u001b[1;33m\u001b[0m\u001b[0m\n\u001b[0;32m   1259\u001b[0m         \u001b[1;32mfor\u001b[0m \u001b[0mtemp_arg\u001b[0m \u001b[1;32min\u001b[0m \u001b[0mtemp_args\u001b[0m\u001b[1;33m:\u001b[0m\u001b[1;33m\u001b[0m\u001b[1;33m\u001b[0m\u001b[0m\n",
      "\u001b[1;32mC:\\spark\\spark-2.4.8-bin-hadoop2.7\\python\\pyspark\\sql\\utils.py\u001b[0m in \u001b[0;36mdeco\u001b[1;34m(*a, **kw)\u001b[0m\n\u001b[0;32m     61\u001b[0m     \u001b[1;32mdef\u001b[0m \u001b[0mdeco\u001b[0m\u001b[1;33m(\u001b[0m\u001b[1;33m*\u001b[0m\u001b[0ma\u001b[0m\u001b[1;33m,\u001b[0m \u001b[1;33m**\u001b[0m\u001b[0mkw\u001b[0m\u001b[1;33m)\u001b[0m\u001b[1;33m:\u001b[0m\u001b[1;33m\u001b[0m\u001b[1;33m\u001b[0m\u001b[0m\n\u001b[0;32m     62\u001b[0m         \u001b[1;32mtry\u001b[0m\u001b[1;33m:\u001b[0m\u001b[1;33m\u001b[0m\u001b[1;33m\u001b[0m\u001b[0m\n\u001b[1;32m---> 63\u001b[1;33m             \u001b[1;32mreturn\u001b[0m \u001b[0mf\u001b[0m\u001b[1;33m(\u001b[0m\u001b[1;33m*\u001b[0m\u001b[0ma\u001b[0m\u001b[1;33m,\u001b[0m \u001b[1;33m**\u001b[0m\u001b[0mkw\u001b[0m\u001b[1;33m)\u001b[0m\u001b[1;33m\u001b[0m\u001b[1;33m\u001b[0m\u001b[0m\n\u001b[0m\u001b[0;32m     64\u001b[0m         \u001b[1;32mexcept\u001b[0m \u001b[0mpy4j\u001b[0m\u001b[1;33m.\u001b[0m\u001b[0mprotocol\u001b[0m\u001b[1;33m.\u001b[0m\u001b[0mPy4JJavaError\u001b[0m \u001b[1;32mas\u001b[0m \u001b[0me\u001b[0m\u001b[1;33m:\u001b[0m\u001b[1;33m\u001b[0m\u001b[1;33m\u001b[0m\u001b[0m\n\u001b[0;32m     65\u001b[0m             \u001b[0ms\u001b[0m \u001b[1;33m=\u001b[0m \u001b[0me\u001b[0m\u001b[1;33m.\u001b[0m\u001b[0mjava_exception\u001b[0m\u001b[1;33m.\u001b[0m\u001b[0mtoString\u001b[0m\u001b[1;33m(\u001b[0m\u001b[1;33m)\u001b[0m\u001b[1;33m\u001b[0m\u001b[1;33m\u001b[0m\u001b[0m\n",
      "\u001b[1;32mC:\\spark\\spark-2.4.8-bin-hadoop2.7\\python\\lib\\py4j-0.10.7-src.zip\\py4j\\protocol.py\u001b[0m in \u001b[0;36mget_return_value\u001b[1;34m(answer, gateway_client, target_id, name)\u001b[0m\n\u001b[0;32m    330\u001b[0m                 raise Py4JError(\n\u001b[0;32m    331\u001b[0m                     \u001b[1;34m\"An error occurred while calling {0}{1}{2}. Trace:\\n{3}\\n\"\u001b[0m\u001b[1;33m.\u001b[0m\u001b[1;33m\u001b[0m\u001b[1;33m\u001b[0m\u001b[0m\n\u001b[1;32m--> 332\u001b[1;33m                     format(target_id, \".\", name, value))\n\u001b[0m\u001b[0;32m    333\u001b[0m         \u001b[1;32melse\u001b[0m\u001b[1;33m:\u001b[0m\u001b[1;33m\u001b[0m\u001b[1;33m\u001b[0m\u001b[0m\n\u001b[0;32m    334\u001b[0m             raise Py4JError(\n",
      "\u001b[1;31mPy4JError\u001b[0m: An error occurred while calling o226.__getstate__. Trace:\npy4j.Py4JException: Method __getstate__([]) does not exist\r\n\tat py4j.reflection.ReflectionEngine.getMethod(ReflectionEngine.java:318)\r\n\tat py4j.reflection.ReflectionEngine.getMethod(ReflectionEngine.java:326)\r\n\tat py4j.Gateway.invoke(Gateway.java:274)\r\n\tat py4j.commands.AbstractCommand.invokeMethod(AbstractCommand.java:132)\r\n\tat py4j.commands.CallCommand.execute(CallCommand.java:79)\r\n\tat py4j.GatewayConnection.run(GatewayConnection.java:238)\r\n\tat java.lang.Thread.run(Thread.java:748)\r\n\n"
     ]
    }
   ],
   "source": [
    "import pickle\n",
    "pickle.dump(rec_model,open('rec_model.pkl','wb'))"
   ]
  },
  {
   "cell_type": "markdown",
   "metadata": {},
   "source": [
    "##### Vì vậy đề xuất cho khách hàng mua những sản phẩm trên."
   ]
  }
 ],
 "metadata": {
  "interpreter": {
   "hash": "0600588c3b5f4418cbe7b5ebc6825b479f3bc010269d8b60d75058cdd010adfe"
  },
  "kernelspec": {
   "display_name": "Python 3.7.9 64-bit",
   "language": "python",
   "name": "python3"
  },
  "language_info": {
   "codemirror_mode": {
    "name": "ipython",
    "version": 3
   },
   "file_extension": ".py",
   "mimetype": "text/x-python",
   "name": "python",
   "nbconvert_exporter": "python",
   "pygments_lexer": "ipython3",
   "version": "3.7.9"
  },
  "orig_nbformat": 4
 },
 "nbformat": 4,
 "nbformat_minor": 2
}
